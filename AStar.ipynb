{
 "cells": [
  {
   "cell_type": "code",
   "execution_count": 16,
   "metadata": {},
   "outputs": [],
   "source": [
    "graph = { \n",
    "    'S': [('A',7),('B',2),('C',3)], \n",
    "    'A': [('B',3),('D',4),('S',7)], \n",
    "    'B': [('A',2),('D',4),('H',1),('S',2)], \n",
    "    'C': [('L',3)],\n",
    "    'D': [('A',4),('B',4),('F',5)],\n",
    "    'E': [('G',2),('K',5)],\n",
    "    'F': [('D',5),('H',4)],\n",
    "    'G': [('H',2),('E',2)],\n",
    "    'H': [('F',4),('B',1),('G',2)],\n",
    "    'I': [('L',4),('K',4),('J',6)],\n",
    "    'J': [('L',4),('I',6),('K',4)],\n",
    "    'K': [('I',4),('J',4),('E',5)]\n",
    "} "
   ]
  },
  {
   "cell_type": "code",
   "execution_count": 17,
   "metadata": {},
   "outputs": [],
   "source": [
    "heuristics = {\n",
    "    'S': 10, \n",
    "    'A': 9, \n",
    "    'B': 7, \n",
    "    'C': 8,\n",
    "    'D': 8,\n",
    "    'F': 6,\n",
    "    'G': 3,\n",
    "    'H': 6,\n",
    "    'I': 4,\n",
    "    'J': 4,\n",
    "    'K': 5,\n",
    "    #'E': 0    \n",
    "}"
   ]
  },
  {
   "cell_type": "code",
   "execution_count": 18,
   "metadata": {},
   "outputs": [],
   "source": [
    "#Imports\n",
    "import math"
   ]
  },
  {
   "cell_type": "code",
   "execution_count": 19,
   "metadata": {},
   "outputs": [],
   "source": [
    "def calculateAP(path, graph):\n",
    "    #path = ['S','A','B']\n",
    "    acumulatedPath = 0\n",
    "    \n",
    "    for position,item in enumerate(path):\n",
    "        if position < len(path) - 1:\n",
    "            for k,v in graph.items():\n",
    "                if item == k:\n",
    "                    expand = dict(v)\n",
    "                    acumulatedPath += expand[path[position + 1]]\n",
    "    return acumulatedPath\n",
    "                "
   ]
  },
  {
   "cell_type": "code",
   "execution_count": 20,
   "metadata": {},
   "outputs": [],
   "source": [
    "def loadQueue(graph,start):\n",
    "    \n",
    "    #imoprts\n",
    "    import math\n",
    "    \n",
    "    queue = []\n",
    "    for item in graph:\n",
    "        if(item == start):\n",
    "            queue.append([item,[item],0,0])\n",
    "        else:\n",
    "            queue.append([item,[],math.inf,math.inf])\n",
    "    \n",
    "    return queue"
   ]
  },
  {
   "cell_type": "code",
   "execution_count": 21,
   "metadata": {},
   "outputs": [],
   "source": [
    "def getHeuristic(node,heuristics):\n",
    "    return heuristics[node]"
   ]
  },
  {
   "cell_type": "code",
   "execution_count": 35,
   "metadata": {},
   "outputs": [],
   "source": [
    "def A_star(graph,heuristics,start,end):\n",
    "    \n",
    "    #Imports\n",
    "    import math\n",
    "    from operator import itemgetter \n",
    "    \n",
    "    #Iniciar variaveis\n",
    "    #queue = [(node,caminho[],valorCaminhoAcumulado,Acumulado+Heuristica)]\n",
    "    queue = loadQueue(graph,start)\n",
    "    done = []\n",
    "    \n",
    "    count = 1\n",
    "    \n",
    "    while queue:\n",
    "        head = queue[0]\n",
    "        rest = queue[1:]\n",
    "        \n",
    "        if head[0] == end:\n",
    "            print('*********************************************************************** End ***********************************************************************')\n",
    "            print('QueueStart: ',queue)\n",
    "            print('Shortest path: ',head[1])\n",
    "            print('Value: ',head[2])\n",
    "            break\n",
    "            \n",
    "        else:\n",
    "            #Fazer expand\n",
    "            #Ex: expand = ['A','B','C']\n",
    "            #Ex:  h = ('S',caminho['S'],0)\n",
    "            #Ex: h[1] = ['S','A']\n",
    "            expand = [i[0] for i in graph[head[0]]]\n",
    "            print('-----------------------------------------------------------------------------------------------------------------------------------------------------------')\n",
    "            print('Ciclo numero ',count)\n",
    "            print('QueueStart: ',queue)\n",
    "            #Ciclo para iterar os nós da queue\n",
    "            for position,(n,c,v,apH) in enumerate(queue):\n",
    "                \n",
    "                #Ver se o nó atual está faz parte do expand\n",
    "                if n in expand:\n",
    "                    \n",
    "                    #Arranjar a path para este né e o seu caminho acumulado\n",
    "                    path = head[1] + [n] #['S','A']\n",
    "                    acumulatedPath = calculateAP(path, graph) #7\n",
    "                    \n",
    "                    #Se o caminho acumulado for inferior ao caminho + heuristica antigo, substitui-lo\n",
    "                    print('n: ',n)\n",
    "                    if n != end and acumulatedPath + getHeuristic(n,heuristics) < apH:\n",
    "                        apPlusHeuristic = acumulatedPath + getHeuristic(n,heuristics)\n",
    "                        queue[position] = ([n,path,acumulatedPath,apPlusHeuristic])\n",
    "                    #Se for o end, ignora a heristica\n",
    "                    else:\n",
    "                        queue[position] = ([n,path,acumulatedPath,acumulatedPath])\n",
    "            \n",
    "            #Remover o head da Queue e adiciona-lo ao Done. Fazer sort da Queue utilizando o elemnto [3] como parametro de comparação\n",
    "            queue.remove(head)\n",
    "            queue = sorted(queue,key=itemgetter(3))\n",
    "            done.append(head)\n",
    "            \n",
    "            #Print da queue no final do ciclo\n",
    "            print('QueueEnd: ',queue)\n",
    "            \n",
    "            count += 1\n",
    "            \n",
    "            \n",
    "   "
   ]
  },
  {
   "cell_type": "code",
   "execution_count": 36,
   "metadata": {},
   "outputs": [
    {
     "name": "stdout",
     "output_type": "stream",
     "text": [
      "-----------------------------------------------------------------------------------------------------------------------------------------------------------\n",
      "Ciclo numero  1\n",
      "QueueStart:  [['S', ['S'], 0, 0], ['A', [], inf, inf], ['B', [], inf, inf], ['C', [], inf, inf], ['D', [], inf, inf], ['E', [], inf, inf], ['F', [], inf, inf], ['G', [], inf, inf], ['H', [], inf, inf], ['I', [], inf, inf], ['J', [], inf, inf], ['K', [], inf, inf]]\n",
      "n:  A\n",
      "n:  B\n",
      "n:  C\n",
      "QueueEnd:  [['B', ['S', 'B'], 2, 9], ['C', ['S', 'C'], 3, 11], ['A', ['S', 'A'], 7, 16], ['D', [], inf, inf], ['E', [], inf, inf], ['F', [], inf, inf], ['G', [], inf, inf], ['H', [], inf, inf], ['I', [], inf, inf], ['J', [], inf, inf], ['K', [], inf, inf]]\n",
      "-----------------------------------------------------------------------------------------------------------------------------------------------------------\n",
      "Ciclo numero  2\n",
      "QueueStart:  [['B', ['S', 'B'], 2, 9], ['C', ['S', 'C'], 3, 11], ['A', ['S', 'A'], 7, 16], ['D', [], inf, inf], ['E', [], inf, inf], ['F', [], inf, inf], ['G', [], inf, inf], ['H', [], inf, inf], ['I', [], inf, inf], ['J', [], inf, inf], ['K', [], inf, inf]]\n",
      "n:  A\n",
      "n:  D\n",
      "n:  H\n",
      "QueueEnd:  [['H', ['S', 'B', 'H'], 3, 9], ['C', ['S', 'C'], 3, 11], ['A', ['S', 'B', 'A'], 4, 13], ['D', ['S', 'B', 'D'], 6, 14], ['E', [], inf, inf], ['F', [], inf, inf], ['G', [], inf, inf], ['I', [], inf, inf], ['J', [], inf, inf], ['K', [], inf, inf]]\n",
      "-----------------------------------------------------------------------------------------------------------------------------------------------------------\n",
      "Ciclo numero  3\n",
      "QueueStart:  [['H', ['S', 'B', 'H'], 3, 9], ['C', ['S', 'C'], 3, 11], ['A', ['S', 'B', 'A'], 4, 13], ['D', ['S', 'B', 'D'], 6, 14], ['E', [], inf, inf], ['F', [], inf, inf], ['G', [], inf, inf], ['I', [], inf, inf], ['J', [], inf, inf], ['K', [], inf, inf]]\n",
      "n:  F\n",
      "n:  G\n",
      "QueueEnd:  [['G', ['S', 'B', 'H', 'G'], 5, 8], ['C', ['S', 'C'], 3, 11], ['A', ['S', 'B', 'A'], 4, 13], ['F', ['S', 'B', 'H', 'F'], 7, 13], ['D', ['S', 'B', 'D'], 6, 14], ['E', [], inf, inf], ['I', [], inf, inf], ['J', [], inf, inf], ['K', [], inf, inf]]\n",
      "-----------------------------------------------------------------------------------------------------------------------------------------------------------\n",
      "Ciclo numero  4\n",
      "QueueStart:  [['G', ['S', 'B', 'H', 'G'], 5, 8], ['C', ['S', 'C'], 3, 11], ['A', ['S', 'B', 'A'], 4, 13], ['F', ['S', 'B', 'H', 'F'], 7, 13], ['D', ['S', 'B', 'D'], 6, 14], ['E', [], inf, inf], ['I', [], inf, inf], ['J', [], inf, inf], ['K', [], inf, inf]]\n",
      "n:  E\n",
      "QueueEnd:  [['E', ['S', 'B', 'H', 'G', 'E'], 7, 7], ['C', ['S', 'C'], 3, 11], ['A', ['S', 'B', 'A'], 4, 13], ['F', ['S', 'B', 'H', 'F'], 7, 13], ['D', ['S', 'B', 'D'], 6, 14], ['I', [], inf, inf], ['J', [], inf, inf], ['K', [], inf, inf]]\n",
      "*********************************************************************** End ***********************************************************************\n",
      "QueueStart:  [['E', ['S', 'B', 'H', 'G', 'E'], 7, 7], ['C', ['S', 'C'], 3, 11], ['A', ['S', 'B', 'A'], 4, 13], ['F', ['S', 'B', 'H', 'F'], 7, 13], ['D', ['S', 'B', 'D'], 6, 14], ['I', [], inf, inf], ['J', [], inf, inf], ['K', [], inf, inf]]\n",
      "Shortest path:  ['S', 'B', 'H', 'G', 'E']\n",
      "Value:  7\n"
     ]
    }
   ],
   "source": [
    "A_star(graph,heuristics,'S','E')"
   ]
  }
 ],
 "metadata": {
  "kernelspec": {
   "display_name": "Python 3",
   "language": "python",
   "name": "python3"
  },
  "language_info": {
   "codemirror_mode": {
    "name": "ipython",
    "version": 3
   },
   "file_extension": ".py",
   "mimetype": "text/x-python",
   "name": "python",
   "nbconvert_exporter": "python",
   "pygments_lexer": "ipython3",
   "version": "3.7.6"
  }
 },
 "nbformat": 4,
 "nbformat_minor": 4
}
